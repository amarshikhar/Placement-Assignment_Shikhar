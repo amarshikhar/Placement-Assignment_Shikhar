{
  "nbformat": 4,
  "nbformat_minor": 0,
  "metadata": {
    "colab": {
      "provenance": []
    },
    "kernelspec": {
      "name": "python3",
      "display_name": "Python 3"
    },
    "language_info": {
      "name": "python"
    }
  },
  "cells": [
    {
      "cell_type": "code",
      "execution_count": null,
      "metadata": {
        "id": "Klq3MNqlEBJ5"
      },
      "outputs": [],
      "source": []
    },
    {
      "cell_type": "markdown",
      "source": [
        "Q-1. A university wants to understand the relationship between the SAT scores of its\n",
        "applicants and their college GPA. They collect data on 500 students, including their SAT\n",
        "scores (out of 1600) and their college GPA (on a 4.0 scale). They find that the correlation\n",
        "coefficient between SAT scores and college GPA is 0.7. What does this correlation\n",
        "coefficient indicate about the relationship between SAT scores and college GPA?"
      ],
      "metadata": {
        "id": "BLRWhVWaEMr0"
      }
    },
    {
      "cell_type": "markdown",
      "source": [
        "Ans. A correlation coefficient of 0.7 indicates a strong positive relationship between SAT scores and college GPA. This means that as SAT scores increase, college GPA tends to increase as well. The magnitude of the correlation coefficient, which ranges from -1 to 1, indicates the strength of the relationship. A value of 0.7 suggests a relatively strong correlation.\n",
        "\n",
        "It's important to note that correlation does not imply causation. While a strong positive correlation between SAT scores and college GPA suggests that higher SAT scores are associated with higher college GPAs, it does not necessarily mean that SAT scores directly cause higher GPAs. There may be other factors, such as study habits, motivation, or other abilities, that contribute to academic success in college."
      ],
      "metadata": {
        "id": "AhymA8K5EOk_"
      }
    },
    {
      "cell_type": "markdown",
      "source": [
        "Q-2. Consider a dataset containing the heights (in centimeters) of 1000 individuals. The\n",
        "mean height is 170 cm with a standard deviation of 10 cm. The dataset is approximately\n",
        "normally distributed, and its skewness is approximately zero. Based on this information,\n",
        "answer the following questions:\n",
        "a. What percentage of individuals in the dataset have heights between 160 cm\n",
        "and 180 cm?\n",
        "b. If we randomly select 100 individuals from the dataset, what is the probability\n",
        "that their average height is greater than 175 cm?\n",
        "c. Assuming the dataset follows a normal distribution, what is the z-score\n",
        "corresponding to a height of 185 cm?\n",
        "d. We know that 5% of the dataset has heights below a certain value. What is\n",
        "the approximate height corresponding to this threshold?\n",
        "e. Calculate the coefficient of variation (CV) for the dataset.\n",
        "f. Calculate the skewness of the dataset and interpret the result."
      ],
      "metadata": {
        "id": "SlAMmuMxEOnk"
      }
    },
    {
      "cell_type": "markdown",
      "source": [
        "Ans.a. To calculate the percentage of individuals with heights between 160 cm and 180 cm, we need to find the area under the normal distribution curve within this range. Since the dataset is approximately normally distributed, we can use the empirical rule, also known as the 68-95-99.7 rule.\n",
        "\n",
        "According to this rule, approximately 68% of the data falls within one standard deviation of the mean, 95% falls within two standard deviations, and 99.7% falls within three standard deviations. Since the standard deviation is 10 cm, 160 cm is one standard deviation below the mean, and 180 cm is one standard deviation above the mean.\n",
        "\n",
        "Therefore, the percentage of individuals with heights between 160 cm and 180 cm is approximately 68%.\n",
        "\n",
        "b. If we randomly select 100 individuals from the dataset, the sample mean height will still follow a normal distribution. The mean of the sample mean height will be the same as the population mean, which is 170 cm. The standard deviation of the sample mean height, also known as the standard error, can be calculated by dividing the population standard deviation by the square root of the sample size.\n",
        "\n",
        "Standard error = 10 cm / sqrt(100) = 10 cm / 10 = 1 cm\n",
        "\n",
        "To find the probability that the average height of the randomly selected 100 individuals is greater than 175 cm, we need to find the area under the normal distribution curve to the right of 175 cm. We can use the z-score formula to calculate the z-score corresponding to 175 cm:\n",
        "\n",
        "z = (x - μ) / σ = (175 - 170) / 10 = 0.5\n",
        "\n",
        "Looking up the z-score of 0.5 in the standard normal distribution table, we find that the probability is 0.5(50%).\n",
        "\n",
        "c. To calculate the z-score corresponding to a height of 185 cm, we can use the same formula:\n",
        "\n",
        "z = (x - μ) / σ = (185 - 170) / 10 = 15 / 10 = 1.5\n",
        "\n",
        "Therefore, the z-score corresponding to a height of 185 cm is 1.5.\n",
        "\n",
        "d. Since the dataset is approximately normally distributed and the skewness is approximately zero, we can assume that the distribution is symmetrical. Knowing that 5% of the dataset has heights below a certain value, we can find the corresponding value using the z-score.\n",
        "\n",
        "Using the standard normal distribution table, we find that the z-score corresponding to the 5th percentile is approximately -1.645. We can calculate the corresponding height using the formula:\n",
        "\n",
        "x = μ + z * σ = 170 + (-1.645) * 10 = 170 - 16.45 = 153.55 cm\n",
        "\n",
        "Therefore, the approximate height corresponding to the threshold of 5% is 153.55 cm.\n",
        "\n",
        "e. The coefficient of variation (CV) is a measure of relative variability and is calculated by dividing the standard deviation by the mean, then multiplying by 100 to express it as a percentage.\n",
        "\n",
        "CV = (standard deviation / mean) * 100 = (10 cm / 170 cm) * 100 ≈ 5.88%\n",
        "\n",
        "Therefore, the coefficient of variation for the dataset is approximately 5.88%.\n",
        "\n",
        "f. Since the skewness of the dataset is approximately zero, it indicates that the distribution is approximately symmetrical. Skewness measures the asymmetry of a distribution. A skewness of zero suggests that the dataset is balanced, with no significant tail on either side. This means that the data is evenly distributed around the mean, following a bell-shaped or normal distribution pattern."
      ],
      "metadata": {
        "id": "Xr0BPB3HEOp6"
      }
    },
    {
      "cell_type": "markdown",
      "source": [],
      "metadata": {
        "id": "LaepwChNHFYu"
      }
    },
    {
      "cell_type": "markdown",
      "source": [],
      "metadata": {
        "id": "G81wcH1ZHFfu"
      }
    },
    {
      "cell_type": "markdown",
      "source": [
        "Q-4. A group of 20 friends decide to play a game in which they each write a number\n",
        "between 1 and 20 on a slip of paper and put it into a hat. They then draw one slip of paper\n",
        "at random. What is the probability that the number on the slip of paper is a perfect square\n",
        "(i.e., 1, 4, 9, or 16)?"
      ],
      "metadata": {
        "id": "0ZOv7fDqEOsE"
      }
    },
    {
      "cell_type": "markdown",
      "source": [
        "Ans. Number of favorable outcomes / Total number of possible outcomes = 4 / 20 = 1/5 = 0.2\n",
        "\n",
        "So the probability of drawing a perfect square is 0.2, which is equivalent to 20%."
      ],
      "metadata": {
        "id": "n5Ig09KXEOut"
      }
    },
    {
      "cell_type": "markdown",
      "source": [
        "Q-5. A certain city has two taxi companies: Company A has 80% of the taxis and\n",
        "Company B has 20% of the taxis. Company A's taxis have a 95% success rate for picking\n",
        "up passengers on time, while Company B's taxis have a 90% success rate. If a randomly\n",
        "selected taxi is late, what is the probability that it belongs to Company A?"
      ],
      "metadata": {
        "id": "rHSCFYqOEOxT"
      }
    },
    {
      "cell_type": "markdown",
      "source": [
        "Ans. To solve this problem, we can use Bayes' theorem. Let's define the following events:\n",
        "\n",
        "A: The taxi belongs to Company A.\n",
        "B: The taxi is late.\n",
        "\n",
        "We are given the following probabilities:\n",
        "\n",
        "P(A) = 0.8 (Company A has 80% of the taxis)\n",
        "P(B|A) = 0.05 (Company A's taxis have a 95% success rate for picking up passengers on time, so the probability of being late is 1 - 0.95 = 0.05)\n",
        "P(B|not A) = 0.1 (Company B's taxis have a 90% success rate for picking up passengers on time, so the probability of being late is 1 - 0.9 = 0.1)\n",
        "\n",
        "We want to find P(A|B), the probability that the taxi belongs to Company A given that it is late.\n",
        "\n",
        "By applying Bayes' theorem, we have:\n",
        "\n",
        "P(A|B) = (P(B|A) * P(A)) / P(B)\n",
        "\n",
        "To calculate P(B), we can use the law of total probability:\n",
        "\n",
        "P(B) = P(B|A) * P(A) + P(B|not A) * P(not A)\n",
        "\n",
        "Since there are only two companies, P(not A) = 1 - P(A).\n",
        "\n",
        "Now let's calculate the values:\n",
        "\n",
        "P(B) = P(B|A) * P(A) + P(B|not A) * P(not A)\n",
        "      = 0.05 * 0.8 + 0.1 * (1 - 0.8)\n",
        "      = 0.04 + 0.1 * 0.2\n",
        "      = 0.04 + 0.02\n",
        "      = 0.06\n",
        "\n",
        "Now we can substitute the values into the formula for P(A|B):\n",
        "\n",
        "P(A|B) = (P(B|A) * P(A)) / P(B)\n",
        "       = (0.05 * 0.8) / 0.06\n",
        "       = 0.04 / 0.06\n",
        "       = 4/6\n",
        "       = 2/3\n",
        "       ≈ 0.6667\n",
        "\n",
        "Therefore, the probability that a randomly selected taxi is from Company A given that it is late is approximately 0.6667 or 66.67%."
      ],
      "metadata": {
        "id": "p4lhfjdwEO0C"
      }
    },
    {
      "cell_type": "markdown",
      "source": [],
      "metadata": {
        "id": "E7n04vN8EO2d"
      }
    },
    {
      "cell_type": "markdown",
      "source": [],
      "metadata": {
        "id": "T744T4BrEO5K"
      }
    },
    {
      "cell_type": "markdown",
      "source": [],
      "metadata": {
        "id": "3TXCV0u8EO77"
      }
    },
    {
      "cell_type": "markdown",
      "source": [],
      "metadata": {
        "id": "VNjpY3QiEO-q"
      }
    },
    {
      "cell_type": "markdown",
      "source": [
        "Q-10. A factory produces light bulbs, and the probability of a bulb being defective is 0.05.\n",
        "The factory produces a large batch of 500 light bulbs.\n",
        "a. What is the probability that exactly 20 bulbs are defective?\n",
        "b. What is the probability that at least 10 bulbs are defective?\n",
        "c. What is the probability that at max 15 bulbs are defective?\n",
        "d. On average, how many defective bulbs would you expect in a batch of 500?"
      ],
      "metadata": {
        "id": "0RDNEdewH5cc"
      }
    },
    {
      "cell_type": "markdown",
      "source": [
        "Ans. a. Probability that exactly 20 bulbs are defective:\n",
        "P(X = 20) = (500C20) * (0.05^20) * (1 - 0.05)^(500 - 20)\n",
        "\n",
        "b. Probability that at least 10 bulbs are defective:\n",
        "P(X ≥ 10) = P(X = 10) + P(X = 11) + ... + P(X = 500)\n",
        "\n",
        "c. Probability that at most 15 bulbs are defective:\n",
        "P(X ≤ 15) = P(X = 0) + P(X = 1) + ... + P(X = 15)\n",
        "\n",
        "d. On average, how many defective bulbs would you expect in a batch of 500:\n",
        "Expected value (μ) = n * p, where n = 500 and p = 0.05"
      ],
      "metadata": {
        "id": "P6MpWH8KH5f2"
      }
    },
    {
      "cell_type": "code",
      "source": [],
      "metadata": {
        "id": "-pZSASsNEN2A"
      },
      "execution_count": null,
      "outputs": []
    },
    {
      "cell_type": "code",
      "source": [],
      "metadata": {
        "id": "SYEKH11PEOKG"
      },
      "execution_count": null,
      "outputs": []
    },
    {
      "cell_type": "code",
      "source": [],
      "metadata": {
        "id": "TFqJhOoAENCW"
      },
      "execution_count": null,
      "outputs": []
    }
  ]
}